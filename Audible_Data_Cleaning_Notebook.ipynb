{
 "cells": [
  {
   "cell_type": "markdown",
   "id": "38a08ae1",
   "metadata": {},
   "source": [
    "# 🎧 Audible Dataset Cleaning Notebook\n",
    "\n",
    "This notebook documents the **step-by-step cleaning process** applied to the `audible_uncleaned.csv` dataset to produce the cleaned `audible_cleaned.csv`. It covers handling duplicates, missing values, parsing fields, and normalizing formats.\n",
    "\n",
    "- Raw dataset shape: **87489 rows × 8 columns**\n",
    "- Cleaned dataset shape: **87489 rows × 9 columns**"
   ]
  },
  {
   "cell_type": "code",
   "execution_count": null,
   "id": "3191821d",
   "metadata": {},
   "outputs": [],
   "source": [
    "\n",
    "import pandas as pd\n",
    "import numpy as np\n",
    "\n",
    "raw_df = pd.read_csv(\"data/raw/audible_uncleaned.csv\")\n",
    "cleaned_df = pd.read_csv(\"data/processed/audible_cleaned.csv\")\n",
    "\n",
    "print(\"Raw dataset shape:\", raw_df.shape)\n",
    "print(\"Cleaned dataset shape:\", cleaned_df.shape)\n",
    "raw_df.head()\n"
   ]
  },
  {
   "cell_type": "markdown",
   "id": "9d340148",
   "metadata": {},
   "source": [
    "## Step 1: Inspect Raw Dataset"
   ]
  },
  {
   "cell_type": "code",
   "execution_count": null,
   "id": "27840be2",
   "metadata": {},
   "outputs": [],
   "source": [
    "\n",
    "raw_df.info()\n",
    "raw_df.describe(include='all').T.head(15)\n"
   ]
  },
  {
   "cell_type": "markdown",
   "id": "6e597334",
   "metadata": {},
   "source": [
    "## Step 2: Remove Duplicates"
   ]
  },
  {
   "cell_type": "code",
   "execution_count": null,
   "id": "9bba8a1a",
   "metadata": {},
   "outputs": [],
   "source": [
    "\n",
    "raw_df = raw_df.drop_duplicates()\n",
    "print(\"After removing duplicates:\", raw_df.shape)\n"
   ]
  },
  {
   "cell_type": "markdown",
   "id": "f1ab4c2f",
   "metadata": {},
   "source": [
    "## Step 3: Handle Missing Values"
   ]
  },
  {
   "cell_type": "code",
   "execution_count": null,
   "id": "6b040b4b",
   "metadata": {},
   "outputs": [],
   "source": [
    "\n",
    "raw_df.isnull().sum()\n"
   ]
  },
  {
   "cell_type": "markdown",
   "id": "1e1bcf70",
   "metadata": {},
   "source": [
    "## Step 4: Parse Price Column"
   ]
  },
  {
   "cell_type": "code",
   "execution_count": null,
   "id": "15f786d4",
   "metadata": {},
   "outputs": [],
   "source": [
    "\n",
    "# Remove currency symbols and convert to float\n",
    "raw_df['Price'] = raw_df['Price'].replace('[\\$,]', '', regex=True).astype(float)\n",
    "raw_df['Price'].head()\n"
   ]
  },
  {
   "cell_type": "markdown",
   "id": "91cd4e38",
   "metadata": {},
   "source": [
    "## Step 6: Save Cleaned Dataset"
   ]
  },
  {
   "cell_type": "code",
   "execution_count": null,
   "id": "9fe81d53",
   "metadata": {},
   "outputs": [],
   "source": [
    "\n",
    "raw_df.to_csv(\"data/processed/audible_cleaned_generated.csv\", index=False)\n",
    "print(\"Saved cleaned dataset to data/processed/audible_cleaned_generated.csv\")\n"
   ]
  }
 ],
 "metadata": {},
 "nbformat": 4,
 "nbformat_minor": 5
}
